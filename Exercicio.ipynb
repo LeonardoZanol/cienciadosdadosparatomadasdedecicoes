{
  "nbformat": 4,
  "nbformat_minor": 0,
  "metadata": {
    "colab": {
      "provenance": [],
      "authorship_tag": "ABX9TyOLhYU69khJgHJXUXfUN49k",
      "include_colab_link": true
    },
    "kernelspec": {
      "name": "python3",
      "display_name": "Python 3"
    },
    "language_info": {
      "name": "python"
    }
  },
  "cells": [
    {
      "cell_type": "markdown",
      "metadata": {
        "id": "view-in-github",
        "colab_type": "text"
      },
      "source": [
        "<a href=\"https://colab.research.google.com/github/LeonardoZanol/cienciadosdadosparatomadasdedecicoes/blob/master/Exercicio.ipynb\" target=\"_parent\"><img src=\"https://colab.research.google.com/assets/colab-badge.svg\" alt=\"Open In Colab\"/></a>"
      ]
    },
    {
      "cell_type": "markdown",
      "source": [
        "<h1><b>CIÊNCIA DOS DADOS PARA TOMADAS DE DECISÕES</b></h1>\n",
        "<h2><b>Atividade: Aplicação Prática de Python na Ciência dos Dados</b></h2>\n",
        "<h3><b>Professor: </b>Sergio Ricardo.</h3>\n",
        "<h3><b>Alunos: </b>Gustavo Marcelo Rossi, Kauann Andreade Gnoatto e Leonardo Zanol Zianni.</h3>\n",
        "<h3><b>O Problema da Empresa:</b></h3>\n",
        "<p>Nosso cliente é uma empresa de cartão de crédito. Eles nos trouxeram um dataset que inclui dados demográficos e dados financeiros recentes (últimos seis meses) de uma amostra de 30.000 titulares de contas. Esses dados estão no nível de conta de crédito; em outras palavras, há uma linha para cada conta (você deve sempre esclarecer qual é a definição de linha, em um dataset). As linhas são rotuladas de acordo com se no mês seguinte ao período de dados histórico de seis meses um proprietário de conta ficou inadimplente, ou seja, não fez o pagamento mínimo.</p>"
      ],
      "metadata": {
        "id": "afvlwT0NQZQC"
      }
    },
    {
      "cell_type": "markdown",
      "source": [
        "<h2><b>Configurações Iniciais:</b></h2>"
      ],
      "metadata": {
        "id": "Dy_QVA11TiBT"
      }
    },
    {
      "cell_type": "code",
      "execution_count": 2,
      "metadata": {
        "id": "bGLd_4ioNOm0"
      },
      "outputs": [],
      "source": [
        "import pandas as pd\n",
        "\n",
        "df = pd.read_excel('/content/default_of_credit_card_clients__courseware_version_1_21_19.xls')"
      ]
    },
    {
      "cell_type": "markdown",
      "source": [
        "<h3><b>1.   Saber quantas colunas os dados contêm. (Podem ser de características, resposta ou metadados).</b></h3>\n",
        "<p><b>Resposta: </b>Foi possível obter a quantidade de colunas do dataset utilizando o comando <b>len(df.columns).</b></p>"
      ],
      "metadata": {
        "id": "znIPRMSTTt8G"
      }
    },
    {
      "cell_type": "code",
      "source": [
        "print('Colunas: ', len(df.columns))"
      ],
      "metadata": {
        "id": "woR4werUPslb",
        "colab": {
          "base_uri": "https://localhost:8080/"
        },
        "outputId": "d3f955cd-0585-461b-9335-e80c5cd45afd"
      },
      "execution_count": 3,
      "outputs": [
        {
          "output_type": "stream",
          "name": "stdout",
          "text": [
            "Colunas:  25\n"
          ]
        }
      ]
    },
    {
      "cell_type": "markdown",
      "source": [
        "<h3><b>2. Quantas linhas (amostras).</b></h3>\n",
        "<p><b>Resposta: </b>Foi possível obter a quantidade de linhas do dataset utilizando o comando: <b>len(df).</b></p>"
      ],
      "metadata": {
        "id": "iunTTuscUR-S"
      }
    },
    {
      "cell_type": "code",
      "source": [
        "print('Linhas: ', len(df))"
      ],
      "metadata": {
        "id": "X41Z4ZGJOGE7",
        "colab": {
          "base_uri": "https://localhost:8080/"
        },
        "outputId": "13c8c5e9-e9cf-4d33-82a6-d662a5e19c1b"
      },
      "execution_count": 4,
      "outputs": [
        {
          "output_type": "stream",
          "name": "stdout",
          "text": [
            "Linhas:  30000\n"
          ]
        }
      ]
    },
    {
      "cell_type": "markdown",
      "source": [
        "<h3><b>3. Que tipos de características existem. Quais são categóricas e quais são numéricas? (Os valores das características categóricas pertencem a classes discretas como “sim”, “não” ou “talvez”. Normalmente as características numéricas pertencem a uma escala numérica contínua, como as quantias em dólares).</b></h3>\n",
        "<p><b>Resposta: </b>Neste dataset, existem os seguintes tipos de características:</p>\n",
        "<p><b>Categóricas: </b>SEX, EDUCATION, MARRIAGE, PAY_1, PAY_2, PAY_3, PAY_4, PAY_5, PAY_6, default payment next month.</p>\n",
        "<p><b>Numéricas: </b>... Adicionar Restante</p>"
      ],
      "metadata": {
        "id": "pu93ZklvUeW9"
      }
    },
    {
      "cell_type": "code",
      "source": [
        "identificacao = ['ID']\n",
        "categoricas = ['SEX', 'EDUCATION', 'MARRIAGE', 'PAY_1', 'PAY_2', 'PAY_3', 'PAY_4', 'PAY_5', 'PAY_6', 'default payment next month']\n",
        "numericas = df.drop(columns=categoricas + identificacao).columns.tolist()\n",
        "\n",
        "print('Características de Identificação: ', identificacao)\n",
        "print('Características Categóricas: ', categoricas)\n",
        "print('Características Numéricas: ', numericas)"
      ],
      "metadata": {
        "id": "OqUpTBF-jXMb",
        "colab": {
          "base_uri": "https://localhost:8080/"
        },
        "outputId": "f9e8b3f4-c27a-4eb7-a1ec-ecad805cdeca"
      },
      "execution_count": 5,
      "outputs": [
        {
          "output_type": "stream",
          "name": "stdout",
          "text": [
            "Características de Identificação:  ['ID']\n",
            "Características Categóricas:  ['SEX', 'EDUCATION', 'MARRIAGE', 'PAY_1', 'PAY_2', 'PAY_3', 'PAY_4', 'PAY_5', 'PAY_6', 'default payment next month']\n",
            "Características Numéricas:  ['LIMIT_BAL', 'AGE', 'BILL_AMT1', 'BILL_AMT2', 'BILL_AMT3', 'BILL_AMT4', 'BILL_AMT5', 'BILL_AMT6', 'PAY_AMT1', 'PAY_AMT2', 'PAY_AMT3', 'PAY_AMT4', 'PAY_AMT5', 'PAY_AMT6']\n"
          ]
        }
      ]
    },
    {
      "cell_type": "markdown",
      "source": [
        "<h3><b>4. Qual é a aparência dos dados segundo essas características. (Para saber isso, você pode examinar o intervalo de valores em características numéricas ou a frequência de classes diferentes em características categóricas, por exemplo).</b></h3>\n",
        "<p><b>Resposta:</b> Para visualizar a aparência dos dados segundo as características, foram utilizados os seguintes comandos:</p>"
      ],
      "metadata": {
        "id": "3iKk2ad6UorF"
      }
    },
    {
      "cell_type": "markdown",
      "source": [
        "<p><b>Características Categóricas:</b></p>\n",
        "<p>O método <b>value_counts()</b> foi aplicado a cada coluna categórica do dataset para exibir a frequência de cada valor distinto presente nessas colunas.<p>"
      ],
      "metadata": {
        "id": "hW6mf-GYZ59R"
      }
    },
    {
      "cell_type": "code",
      "source": [
        "for coluna in categoricas:\n",
        "  print(f'Frequência Coluna: {df[coluna].value_counts().to_string()}\\n')"
      ],
      "metadata": {
        "id": "JoqYTliUyttX",
        "colab": {
          "base_uri": "https://localhost:8080/"
        },
        "outputId": "ceae77f6-241c-4913-99ba-9cebac534e7a"
      },
      "execution_count": 6,
      "outputs": [
        {
          "output_type": "stream",
          "name": "stdout",
          "text": [
            "Frequência Coluna: SEX\n",
            "2    17910\n",
            "1    11775\n",
            "0      315\n",
            "\n",
            "Frequência Coluna: EDUCATION\n",
            "2    13884\n",
            "1    10474\n",
            "3     4867\n",
            "0      329\n",
            "5      275\n",
            "4      122\n",
            "6       49\n",
            "\n",
            "Frequência Coluna: MARRIAGE\n",
            "2    15810\n",
            "1    13503\n",
            "0      369\n",
            "3      318\n",
            "\n",
            "Frequência Coluna: PAY_1\n",
            "0                13402\n",
            "-1                5047\n",
            "1                 3261\n",
            "Not available     3021\n",
            "-2                2476\n",
            "2                 2378\n",
            "3                  292\n",
            "4                   63\n",
            "5                   23\n",
            "8                   17\n",
            "6                   11\n",
            "7                    9\n",
            "\n",
            "Frequência Coluna: PAY_2\n",
            " 0    15878\n",
            "-1     5989\n",
            " 2     3878\n",
            "-2     3746\n",
            " 3      325\n",
            " 4       99\n",
            " 1       28\n",
            " 5       24\n",
            " 7       20\n",
            " 6       12\n",
            " 8        1\n",
            "\n",
            "Frequência Coluna: PAY_3\n",
            " 0    15914\n",
            "-1     5869\n",
            "-2     4046\n",
            " 2     3782\n",
            " 3      237\n",
            " 4       74\n",
            " 7       27\n",
            " 6       23\n",
            " 5       21\n",
            " 1        4\n",
            " 8        3\n",
            "\n",
            "Frequência Coluna: PAY_4\n",
            " 0    16600\n",
            "-1     5624\n",
            "-2     4309\n",
            " 2     3121\n",
            " 3      180\n",
            " 4       66\n",
            " 7       57\n",
            " 5       34\n",
            " 6        5\n",
            " 1        2\n",
            " 8        2\n",
            "\n",
            "Frequência Coluna: PAY_5\n",
            " 0    17069\n",
            "-1     5488\n",
            "-2     4503\n",
            " 2     2603\n",
            " 3      177\n",
            " 4       81\n",
            " 7       57\n",
            " 5       17\n",
            " 6        4\n",
            " 8        1\n",
            "\n",
            "Frequência Coluna: PAY_6\n",
            " 0    16408\n",
            "-1     5686\n",
            "-2     4849\n",
            " 2     2749\n",
            " 3      181\n",
            " 4       48\n",
            " 7       45\n",
            " 6       19\n",
            " 5       13\n",
            " 8        2\n",
            "\n",
            "Frequência Coluna: default payment next month\n",
            "0    23438\n",
            "1     6562\n",
            "\n"
          ]
        }
      ]
    },
    {
      "cell_type": "markdown",
      "source": [
        "<p><b>Características Numéricas:</b></p>\n",
        "<p>Selecionando todas as colunas numéricas do dataset, foi utilizado o método <b>describe()</b>, assim sendo possível visualizar os intervalos de valores e estatísticas de cada coluna.<p>"
      ],
      "metadata": {
        "id": "m4nid6X7dMwT"
      }
    },
    {
      "cell_type": "code",
      "source": [
        "df[numericas].describe()"
      ],
      "metadata": {
        "id": "q4Bv_5LC1MKK",
        "colab": {
          "base_uri": "https://localhost:8080/",
          "height": 300
        },
        "outputId": "7f8cb3fb-c3ab-48a4-f66e-ac4d094bf297"
      },
      "execution_count": 7,
      "outputs": [
        {
          "output_type": "execute_result",
          "data": {
            "text/plain": [
              "            LIMIT_BAL           AGE      BILL_AMT1      BILL_AMT2  \\\n",
              "count    30000.000000  30000.000000   30000.000000   30000.000000   \n",
              "mean    165760.989333     35.108800   50646.744233   48624.349167   \n",
              "std     130158.590432      9.851592   73376.695080   70893.963498   \n",
              "min          0.000000      0.000000 -165580.000000  -69777.000000   \n",
              "25%      50000.000000     28.000000    3234.000000    2682.000000   \n",
              "50%     140000.000000     34.000000   21644.500000   20597.000000   \n",
              "75%     240000.000000     41.000000   66148.500000   62999.750000   \n",
              "max    1000000.000000     79.000000  964511.000000  983931.000000   \n",
              "\n",
              "          BILL_AMT3      BILL_AMT4      BILL_AMT5      BILL_AMT6  \\\n",
              "count  3.000000e+04   30000.000000   30000.000000   30000.000000   \n",
              "mean   4.649736e+04   42791.362167   39884.398167   38480.350933   \n",
              "std    6.910251e+04   64090.316188   60606.644833   59406.836932   \n",
              "min   -1.572640e+05 -170000.000000  -81334.000000 -339603.000000   \n",
              "25%    2.403000e+03    2034.000000    1534.000000    1080.000000   \n",
              "50%    1.975250e+04   18759.500000   17835.500000   16643.000000   \n",
              "75%    5.952675e+04   53572.250000   49804.000000   48863.500000   \n",
              "max    1.664089e+06  891586.000000  927171.000000  961664.000000   \n",
              "\n",
              "            PAY_AMT1      PAY_AMT2       PAY_AMT3       PAY_AMT4  \\\n",
              "count   30000.000000  3.000000e+04   30000.000000   30000.000000   \n",
              "mean     5613.321500  5.855410e+03    5174.387967    4776.089733   \n",
              "std     16539.094312  2.299256e+04   17565.538305   15532.893047   \n",
              "min         0.000000  0.000000e+00       0.000000       0.000000   \n",
              "25%       836.000000  7.217500e+02     371.000000     223.000000   \n",
              "50%      2084.500000  2.000000e+03    1776.000000    1500.000000   \n",
              "75%      5000.000000  5.000000e+03    4500.000000    4000.000000   \n",
              "max    873552.000000  1.684259e+06  896040.000000  621000.000000   \n",
              "\n",
              "            PAY_AMT5       PAY_AMT6  \n",
              "count   30000.000000   30000.000000  \n",
              "mean     4754.749200    5164.223267  \n",
              "std     15239.070708   17712.664703  \n",
              "min         0.000000       0.000000  \n",
              "25%       170.750000       9.000000  \n",
              "50%      1500.000000    1500.000000  \n",
              "75%      4000.000000    4000.000000  \n",
              "max    426529.000000  528666.000000  "
            ],
            "text/html": [
              "\n",
              "  <div id=\"df-31476ade-a20c-4263-854d-ed91bbc124d3\" class=\"colab-df-container\">\n",
              "    <div>\n",
              "<style scoped>\n",
              "    .dataframe tbody tr th:only-of-type {\n",
              "        vertical-align: middle;\n",
              "    }\n",
              "\n",
              "    .dataframe tbody tr th {\n",
              "        vertical-align: top;\n",
              "    }\n",
              "\n",
              "    .dataframe thead th {\n",
              "        text-align: right;\n",
              "    }\n",
              "</style>\n",
              "<table border=\"1\" class=\"dataframe\">\n",
              "  <thead>\n",
              "    <tr style=\"text-align: right;\">\n",
              "      <th></th>\n",
              "      <th>LIMIT_BAL</th>\n",
              "      <th>AGE</th>\n",
              "      <th>BILL_AMT1</th>\n",
              "      <th>BILL_AMT2</th>\n",
              "      <th>BILL_AMT3</th>\n",
              "      <th>BILL_AMT4</th>\n",
              "      <th>BILL_AMT5</th>\n",
              "      <th>BILL_AMT6</th>\n",
              "      <th>PAY_AMT1</th>\n",
              "      <th>PAY_AMT2</th>\n",
              "      <th>PAY_AMT3</th>\n",
              "      <th>PAY_AMT4</th>\n",
              "      <th>PAY_AMT5</th>\n",
              "      <th>PAY_AMT6</th>\n",
              "    </tr>\n",
              "  </thead>\n",
              "  <tbody>\n",
              "    <tr>\n",
              "      <th>count</th>\n",
              "      <td>30000.000000</td>\n",
              "      <td>30000.000000</td>\n",
              "      <td>30000.000000</td>\n",
              "      <td>30000.000000</td>\n",
              "      <td>3.000000e+04</td>\n",
              "      <td>30000.000000</td>\n",
              "      <td>30000.000000</td>\n",
              "      <td>30000.000000</td>\n",
              "      <td>30000.000000</td>\n",
              "      <td>3.000000e+04</td>\n",
              "      <td>30000.000000</td>\n",
              "      <td>30000.000000</td>\n",
              "      <td>30000.000000</td>\n",
              "      <td>30000.000000</td>\n",
              "    </tr>\n",
              "    <tr>\n",
              "      <th>mean</th>\n",
              "      <td>165760.989333</td>\n",
              "      <td>35.108800</td>\n",
              "      <td>50646.744233</td>\n",
              "      <td>48624.349167</td>\n",
              "      <td>4.649736e+04</td>\n",
              "      <td>42791.362167</td>\n",
              "      <td>39884.398167</td>\n",
              "      <td>38480.350933</td>\n",
              "      <td>5613.321500</td>\n",
              "      <td>5.855410e+03</td>\n",
              "      <td>5174.387967</td>\n",
              "      <td>4776.089733</td>\n",
              "      <td>4754.749200</td>\n",
              "      <td>5164.223267</td>\n",
              "    </tr>\n",
              "    <tr>\n",
              "      <th>std</th>\n",
              "      <td>130158.590432</td>\n",
              "      <td>9.851592</td>\n",
              "      <td>73376.695080</td>\n",
              "      <td>70893.963498</td>\n",
              "      <td>6.910251e+04</td>\n",
              "      <td>64090.316188</td>\n",
              "      <td>60606.644833</td>\n",
              "      <td>59406.836932</td>\n",
              "      <td>16539.094312</td>\n",
              "      <td>2.299256e+04</td>\n",
              "      <td>17565.538305</td>\n",
              "      <td>15532.893047</td>\n",
              "      <td>15239.070708</td>\n",
              "      <td>17712.664703</td>\n",
              "    </tr>\n",
              "    <tr>\n",
              "      <th>min</th>\n",
              "      <td>0.000000</td>\n",
              "      <td>0.000000</td>\n",
              "      <td>-165580.000000</td>\n",
              "      <td>-69777.000000</td>\n",
              "      <td>-1.572640e+05</td>\n",
              "      <td>-170000.000000</td>\n",
              "      <td>-81334.000000</td>\n",
              "      <td>-339603.000000</td>\n",
              "      <td>0.000000</td>\n",
              "      <td>0.000000e+00</td>\n",
              "      <td>0.000000</td>\n",
              "      <td>0.000000</td>\n",
              "      <td>0.000000</td>\n",
              "      <td>0.000000</td>\n",
              "    </tr>\n",
              "    <tr>\n",
              "      <th>25%</th>\n",
              "      <td>50000.000000</td>\n",
              "      <td>28.000000</td>\n",
              "      <td>3234.000000</td>\n",
              "      <td>2682.000000</td>\n",
              "      <td>2.403000e+03</td>\n",
              "      <td>2034.000000</td>\n",
              "      <td>1534.000000</td>\n",
              "      <td>1080.000000</td>\n",
              "      <td>836.000000</td>\n",
              "      <td>7.217500e+02</td>\n",
              "      <td>371.000000</td>\n",
              "      <td>223.000000</td>\n",
              "      <td>170.750000</td>\n",
              "      <td>9.000000</td>\n",
              "    </tr>\n",
              "    <tr>\n",
              "      <th>50%</th>\n",
              "      <td>140000.000000</td>\n",
              "      <td>34.000000</td>\n",
              "      <td>21644.500000</td>\n",
              "      <td>20597.000000</td>\n",
              "      <td>1.975250e+04</td>\n",
              "      <td>18759.500000</td>\n",
              "      <td>17835.500000</td>\n",
              "      <td>16643.000000</td>\n",
              "      <td>2084.500000</td>\n",
              "      <td>2.000000e+03</td>\n",
              "      <td>1776.000000</td>\n",
              "      <td>1500.000000</td>\n",
              "      <td>1500.000000</td>\n",
              "      <td>1500.000000</td>\n",
              "    </tr>\n",
              "    <tr>\n",
              "      <th>75%</th>\n",
              "      <td>240000.000000</td>\n",
              "      <td>41.000000</td>\n",
              "      <td>66148.500000</td>\n",
              "      <td>62999.750000</td>\n",
              "      <td>5.952675e+04</td>\n",
              "      <td>53572.250000</td>\n",
              "      <td>49804.000000</td>\n",
              "      <td>48863.500000</td>\n",
              "      <td>5000.000000</td>\n",
              "      <td>5.000000e+03</td>\n",
              "      <td>4500.000000</td>\n",
              "      <td>4000.000000</td>\n",
              "      <td>4000.000000</td>\n",
              "      <td>4000.000000</td>\n",
              "    </tr>\n",
              "    <tr>\n",
              "      <th>max</th>\n",
              "      <td>1000000.000000</td>\n",
              "      <td>79.000000</td>\n",
              "      <td>964511.000000</td>\n",
              "      <td>983931.000000</td>\n",
              "      <td>1.664089e+06</td>\n",
              "      <td>891586.000000</td>\n",
              "      <td>927171.000000</td>\n",
              "      <td>961664.000000</td>\n",
              "      <td>873552.000000</td>\n",
              "      <td>1.684259e+06</td>\n",
              "      <td>896040.000000</td>\n",
              "      <td>621000.000000</td>\n",
              "      <td>426529.000000</td>\n",
              "      <td>528666.000000</td>\n",
              "    </tr>\n",
              "  </tbody>\n",
              "</table>\n",
              "</div>\n",
              "    <div class=\"colab-df-buttons\">\n",
              "\n",
              "  <div class=\"colab-df-container\">\n",
              "    <button class=\"colab-df-convert\" onclick=\"convertToInteractive('df-31476ade-a20c-4263-854d-ed91bbc124d3')\"\n",
              "            title=\"Convert this dataframe to an interactive table.\"\n",
              "            style=\"display:none;\">\n",
              "\n",
              "  <svg xmlns=\"http://www.w3.org/2000/svg\" height=\"24px\" viewBox=\"0 -960 960 960\">\n",
              "    <path d=\"M120-120v-720h720v720H120Zm60-500h600v-160H180v160Zm220 220h160v-160H400v160Zm0 220h160v-160H400v160ZM180-400h160v-160H180v160Zm440 0h160v-160H620v160ZM180-180h160v-160H180v160Zm440 0h160v-160H620v160Z\"/>\n",
              "  </svg>\n",
              "    </button>\n",
              "\n",
              "  <style>\n",
              "    .colab-df-container {\n",
              "      display:flex;\n",
              "      gap: 12px;\n",
              "    }\n",
              "\n",
              "    .colab-df-convert {\n",
              "      background-color: #E8F0FE;\n",
              "      border: none;\n",
              "      border-radius: 50%;\n",
              "      cursor: pointer;\n",
              "      display: none;\n",
              "      fill: #1967D2;\n",
              "      height: 32px;\n",
              "      padding: 0 0 0 0;\n",
              "      width: 32px;\n",
              "    }\n",
              "\n",
              "    .colab-df-convert:hover {\n",
              "      background-color: #E2EBFA;\n",
              "      box-shadow: 0px 1px 2px rgba(60, 64, 67, 0.3), 0px 1px 3px 1px rgba(60, 64, 67, 0.15);\n",
              "      fill: #174EA6;\n",
              "    }\n",
              "\n",
              "    .colab-df-buttons div {\n",
              "      margin-bottom: 4px;\n",
              "    }\n",
              "\n",
              "    [theme=dark] .colab-df-convert {\n",
              "      background-color: #3B4455;\n",
              "      fill: #D2E3FC;\n",
              "    }\n",
              "\n",
              "    [theme=dark] .colab-df-convert:hover {\n",
              "      background-color: #434B5C;\n",
              "      box-shadow: 0px 1px 3px 1px rgba(0, 0, 0, 0.15);\n",
              "      filter: drop-shadow(0px 1px 2px rgba(0, 0, 0, 0.3));\n",
              "      fill: #FFFFFF;\n",
              "    }\n",
              "  </style>\n",
              "\n",
              "    <script>\n",
              "      const buttonEl =\n",
              "        document.querySelector('#df-31476ade-a20c-4263-854d-ed91bbc124d3 button.colab-df-convert');\n",
              "      buttonEl.style.display =\n",
              "        google.colab.kernel.accessAllowed ? 'block' : 'none';\n",
              "\n",
              "      async function convertToInteractive(key) {\n",
              "        const element = document.querySelector('#df-31476ade-a20c-4263-854d-ed91bbc124d3');\n",
              "        const dataTable =\n",
              "          await google.colab.kernel.invokeFunction('convertToInteractive',\n",
              "                                                    [key], {});\n",
              "        if (!dataTable) return;\n",
              "\n",
              "        const docLinkHtml = 'Like what you see? Visit the ' +\n",
              "          '<a target=\"_blank\" href=https://colab.research.google.com/notebooks/data_table.ipynb>data table notebook</a>'\n",
              "          + ' to learn more about interactive tables.';\n",
              "        element.innerHTML = '';\n",
              "        dataTable['output_type'] = 'display_data';\n",
              "        await google.colab.output.renderOutput(dataTable, element);\n",
              "        const docLink = document.createElement('div');\n",
              "        docLink.innerHTML = docLinkHtml;\n",
              "        element.appendChild(docLink);\n",
              "      }\n",
              "    </script>\n",
              "  </div>\n",
              "\n",
              "\n",
              "<div id=\"df-450a32b2-4878-4542-9569-bfeb381f42f7\">\n",
              "  <button class=\"colab-df-quickchart\" onclick=\"quickchart('df-450a32b2-4878-4542-9569-bfeb381f42f7')\"\n",
              "            title=\"Suggest charts\"\n",
              "            style=\"display:none;\">\n",
              "\n",
              "<svg xmlns=\"http://www.w3.org/2000/svg\" height=\"24px\"viewBox=\"0 0 24 24\"\n",
              "     width=\"24px\">\n",
              "    <g>\n",
              "        <path d=\"M19 3H5c-1.1 0-2 .9-2 2v14c0 1.1.9 2 2 2h14c1.1 0 2-.9 2-2V5c0-1.1-.9-2-2-2zM9 17H7v-7h2v7zm4 0h-2V7h2v10zm4 0h-2v-4h2v4z\"/>\n",
              "    </g>\n",
              "</svg>\n",
              "  </button>\n",
              "\n",
              "<style>\n",
              "  .colab-df-quickchart {\n",
              "      --bg-color: #E8F0FE;\n",
              "      --fill-color: #1967D2;\n",
              "      --hover-bg-color: #E2EBFA;\n",
              "      --hover-fill-color: #174EA6;\n",
              "      --disabled-fill-color: #AAA;\n",
              "      --disabled-bg-color: #DDD;\n",
              "  }\n",
              "\n",
              "  [theme=dark] .colab-df-quickchart {\n",
              "      --bg-color: #3B4455;\n",
              "      --fill-color: #D2E3FC;\n",
              "      --hover-bg-color: #434B5C;\n",
              "      --hover-fill-color: #FFFFFF;\n",
              "      --disabled-bg-color: #3B4455;\n",
              "      --disabled-fill-color: #666;\n",
              "  }\n",
              "\n",
              "  .colab-df-quickchart {\n",
              "    background-color: var(--bg-color);\n",
              "    border: none;\n",
              "    border-radius: 50%;\n",
              "    cursor: pointer;\n",
              "    display: none;\n",
              "    fill: var(--fill-color);\n",
              "    height: 32px;\n",
              "    padding: 0;\n",
              "    width: 32px;\n",
              "  }\n",
              "\n",
              "  .colab-df-quickchart:hover {\n",
              "    background-color: var(--hover-bg-color);\n",
              "    box-shadow: 0 1px 2px rgba(60, 64, 67, 0.3), 0 1px 3px 1px rgba(60, 64, 67, 0.15);\n",
              "    fill: var(--button-hover-fill-color);\n",
              "  }\n",
              "\n",
              "  .colab-df-quickchart-complete:disabled,\n",
              "  .colab-df-quickchart-complete:disabled:hover {\n",
              "    background-color: var(--disabled-bg-color);\n",
              "    fill: var(--disabled-fill-color);\n",
              "    box-shadow: none;\n",
              "  }\n",
              "\n",
              "  .colab-df-spinner {\n",
              "    border: 2px solid var(--fill-color);\n",
              "    border-color: transparent;\n",
              "    border-bottom-color: var(--fill-color);\n",
              "    animation:\n",
              "      spin 1s steps(1) infinite;\n",
              "  }\n",
              "\n",
              "  @keyframes spin {\n",
              "    0% {\n",
              "      border-color: transparent;\n",
              "      border-bottom-color: var(--fill-color);\n",
              "      border-left-color: var(--fill-color);\n",
              "    }\n",
              "    20% {\n",
              "      border-color: transparent;\n",
              "      border-left-color: var(--fill-color);\n",
              "      border-top-color: var(--fill-color);\n",
              "    }\n",
              "    30% {\n",
              "      border-color: transparent;\n",
              "      border-left-color: var(--fill-color);\n",
              "      border-top-color: var(--fill-color);\n",
              "      border-right-color: var(--fill-color);\n",
              "    }\n",
              "    40% {\n",
              "      border-color: transparent;\n",
              "      border-right-color: var(--fill-color);\n",
              "      border-top-color: var(--fill-color);\n",
              "    }\n",
              "    60% {\n",
              "      border-color: transparent;\n",
              "      border-right-color: var(--fill-color);\n",
              "    }\n",
              "    80% {\n",
              "      border-color: transparent;\n",
              "      border-right-color: var(--fill-color);\n",
              "      border-bottom-color: var(--fill-color);\n",
              "    }\n",
              "    90% {\n",
              "      border-color: transparent;\n",
              "      border-bottom-color: var(--fill-color);\n",
              "    }\n",
              "  }\n",
              "</style>\n",
              "\n",
              "  <script>\n",
              "    async function quickchart(key) {\n",
              "      const quickchartButtonEl =\n",
              "        document.querySelector('#' + key + ' button');\n",
              "      quickchartButtonEl.disabled = true;  // To prevent multiple clicks.\n",
              "      quickchartButtonEl.classList.add('colab-df-spinner');\n",
              "      try {\n",
              "        const charts = await google.colab.kernel.invokeFunction(\n",
              "            'suggestCharts', [key], {});\n",
              "      } catch (error) {\n",
              "        console.error('Error during call to suggestCharts:', error);\n",
              "      }\n",
              "      quickchartButtonEl.classList.remove('colab-df-spinner');\n",
              "      quickchartButtonEl.classList.add('colab-df-quickchart-complete');\n",
              "    }\n",
              "    (() => {\n",
              "      let quickchartButtonEl =\n",
              "        document.querySelector('#df-450a32b2-4878-4542-9569-bfeb381f42f7 button');\n",
              "      quickchartButtonEl.style.display =\n",
              "        google.colab.kernel.accessAllowed ? 'block' : 'none';\n",
              "    })();\n",
              "  </script>\n",
              "</div>\n",
              "\n",
              "    </div>\n",
              "  </div>\n"
            ],
            "application/vnd.google.colaboratory.intrinsic+json": {
              "type": "dataframe",
              "summary": "{\n  \"name\": \"df[numericas]\",\n  \"rows\": 8,\n  \"fields\": [\n    {\n      \"column\": \"LIMIT_BAL\",\n      \"properties\": {\n        \"dtype\": \"number\",\n        \"std\": 325051.9228682847,\n        \"min\": 0.0,\n        \"max\": 1000000.0,\n        \"num_unique_values\": 8,\n        \"samples\": [\n          165760.98933333333,\n          140000.0,\n          30000.0\n        ],\n        \"semantic_type\": \"\",\n        \"description\": \"\"\n      }\n    },\n    {\n      \"column\": \"AGE\",\n      \"properties\": {\n        \"dtype\": \"number\",\n        \"std\": 10595.164327347518,\n        \"min\": 0.0,\n        \"max\": 30000.0,\n        \"num_unique_values\": 8,\n        \"samples\": [\n          35.1088,\n          34.0,\n          30000.0\n        ],\n        \"semantic_type\": \"\",\n        \"description\": \"\"\n      }\n    },\n    {\n      \"column\": \"BILL_AMT1\",\n      \"properties\": {\n        \"dtype\": \"number\",\n        \"std\": 345411.7313517648,\n        \"min\": -165580.0,\n        \"max\": 964511.0,\n        \"num_unique_values\": 8,\n        \"samples\": [\n          50646.74423333333,\n          21644.5,\n          30000.0\n        ],\n        \"semantic_type\": \"\",\n        \"description\": \"\"\n      }\n    },\n    {\n      \"column\": \"BILL_AMT2\",\n      \"properties\": {\n        \"dtype\": \"number\",\n        \"std\": 342340.95183016895,\n        \"min\": -69777.0,\n        \"max\": 983931.0,\n        \"num_unique_values\": 8,\n        \"samples\": [\n          48624.34916666667,\n          20597.0,\n          30000.0\n        ],\n        \"semantic_type\": \"\",\n        \"description\": \"\"\n      }\n    },\n    {\n      \"column\": \"BILL_AMT3\",\n      \"properties\": {\n        \"dtype\": \"number\",\n        \"std\": 589165.2399373148,\n        \"min\": -157264.0,\n        \"max\": 1664089.0,\n        \"num_unique_values\": 8,\n        \"samples\": [\n          46497.3571,\n          19752.5,\n          30000.0\n        ],\n        \"semantic_type\": \"\",\n        \"description\": \"\"\n      }\n    },\n    {\n      \"column\": \"BILL_AMT4\",\n      \"properties\": {\n        \"dtype\": \"number\",\n        \"std\": 321851.3479044837,\n        \"min\": -170000.0,\n        \"max\": 891586.0,\n        \"num_unique_values\": 8,\n        \"samples\": [\n          42791.362166666666,\n          18759.5,\n          30000.0\n        ],\n        \"semantic_type\": \"\",\n        \"description\": \"\"\n      }\n    },\n    {\n      \"column\": \"BILL_AMT5\",\n      \"properties\": {\n        \"dtype\": \"number\",\n        \"std\": 324827.8501194131,\n        \"min\": -81334.0,\n        \"max\": 927171.0,\n        \"num_unique_values\": 8,\n        \"samples\": [\n          39884.398166666666,\n          17835.5,\n          30000.0\n        ],\n        \"semantic_type\": \"\",\n        \"description\": \"\"\n      }\n    },\n    {\n      \"column\": \"BILL_AMT6\",\n      \"properties\": {\n        \"dtype\": \"number\",\n        \"std\": 371360.9029362845,\n        \"min\": -339603.0,\n        \"max\": 961664.0,\n        \"num_unique_values\": 8,\n        \"samples\": [\n          38480.350933333335,\n          16643.0,\n          30000.0\n        ],\n        \"semantic_type\": \"\",\n        \"description\": \"\"\n      }\n    },\n    {\n      \"column\": \"PAY_AMT1\",\n      \"properties\": {\n        \"dtype\": \"number\",\n        \"std\": 305981.15169098787,\n        \"min\": 0.0,\n        \"max\": 873552.0,\n        \"num_unique_values\": 8,\n        \"samples\": [\n          5613.3215,\n          2084.5,\n          30000.0\n        ],\n        \"semantic_type\": \"\",\n        \"description\": \"\"\n      }\n    },\n    {\n      \"column\": \"PAY_AMT2\",\n      \"properties\": {\n        \"dtype\": \"number\",\n        \"std\": 592216.8631709445,\n        \"min\": 0.0,\n        \"max\": 1684259.0,\n        \"num_unique_values\": 8,\n        \"samples\": [\n          5855.4103,\n          2000.0,\n          30000.0\n        ],\n        \"semantic_type\": \"\",\n        \"description\": \"\"\n      }\n    },\n    {\n      \"column\": \"PAY_AMT3\",\n      \"properties\": {\n        \"dtype\": \"number\",\n        \"std\": 313970.3055597695,\n        \"min\": 0.0,\n        \"max\": 896040.0,\n        \"num_unique_values\": 8,\n        \"samples\": [\n          5174.387966666666,\n          1776.0,\n          30000.0\n        ],\n        \"semantic_type\": \"\",\n        \"description\": \"\"\n      }\n    },\n    {\n      \"column\": \"PAY_AMT4\",\n      \"properties\": {\n        \"dtype\": \"number\",\n        \"std\": 216968.3463796781,\n        \"min\": 0.0,\n        \"max\": 621000.0,\n        \"num_unique_values\": 8,\n        \"samples\": [\n          4776.089733333333,\n          1500.0,\n          30000.0\n        ],\n        \"semantic_type\": \"\",\n        \"description\": \"\"\n      }\n    },\n    {\n      \"column\": \"PAY_AMT5\",\n      \"properties\": {\n        \"dtype\": \"number\",\n        \"std\": 148341.43725827866,\n        \"min\": 0.0,\n        \"max\": 426529.0,\n        \"num_unique_values\": 8,\n        \"samples\": [\n          4754.7492,\n          1500.0,\n          30000.0\n        ],\n        \"semantic_type\": \"\",\n        \"description\": \"\"\n      }\n    },\n    {\n      \"column\": \"PAY_AMT6\",\n      \"properties\": {\n        \"dtype\": \"number\",\n        \"std\": 184262.1026975598,\n        \"min\": 0.0,\n        \"max\": 528666.0,\n        \"num_unique_values\": 8,\n        \"samples\": [\n          5164.223266666667,\n          1500.0,\n          30000.0\n        ],\n        \"semantic_type\": \"\",\n        \"description\": \"\"\n      }\n    }\n  ]\n}"
            }
          },
          "metadata": {},
          "execution_count": 7
        }
      ]
    },
    {
      "cell_type": "markdown",
      "source": [
        "<h3><b>5. Existem dados faltando?</b></h3>"
      ],
      "metadata": {
        "id": "TYSLD_GhU10j"
      }
    },
    {
      "cell_type": "markdown",
      "source": [
        "<p><b>Responsta: </b>Sim, existem dados faltando na coluna PAY_1, analisando o retorno das características categóricas no passo anterior, foi verificado que existiam alguns valores com Not avaible.</p>\n",
        "<p>Dessa forma foi executado o comando abaixo para verificar se existiam valores nulos ou com Not avaible dentro do dataset:</p>"
      ],
      "metadata": {
        "id": "HMSvoZw9liXT"
      }
    },
    {
      "cell_type": "code",
      "source": [
        "print(((df == 'Not available') | (df == ' ')).sum().to_string())"
      ],
      "metadata": {
        "id": "vEncK7xg2E4v",
        "colab": {
          "base_uri": "https://localhost:8080/"
        },
        "outputId": "07ea3278-bf77-4ed0-8d54-4eae2eef01db"
      },
      "execution_count": 8,
      "outputs": [
        {
          "output_type": "stream",
          "name": "stdout",
          "text": [
            "ID                               0\n",
            "LIMIT_BAL                        0\n",
            "SEX                              0\n",
            "EDUCATION                        0\n",
            "MARRIAGE                         0\n",
            "AGE                              0\n",
            "PAY_1                         3021\n",
            "PAY_2                            0\n",
            "PAY_3                            0\n",
            "PAY_4                            0\n",
            "PAY_5                            0\n",
            "PAY_6                            0\n",
            "BILL_AMT1                        0\n",
            "BILL_AMT2                        0\n",
            "BILL_AMT3                        0\n",
            "BILL_AMT4                        0\n",
            "BILL_AMT5                        0\n",
            "BILL_AMT6                        0\n",
            "PAY_AMT1                         0\n",
            "PAY_AMT2                         0\n",
            "PAY_AMT3                         0\n",
            "PAY_AMT4                         0\n",
            "PAY_AMT5                         0\n",
            "PAY_AMT6                         0\n",
            "default payment next month       0\n"
          ]
        }
      ]
    }
  ]
}